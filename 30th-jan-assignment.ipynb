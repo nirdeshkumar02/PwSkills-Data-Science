{
 "cells": [
  {
   "cell_type": "markdown",
   "id": "012a593c-7d5f-4666-bbd3-ac301e10ea20",
   "metadata": {},
   "source": [
    "# Q1 - Write a program to accept percentage from the user and display the grade according to the following criteria -\n",
    "# >90 => A\n",
    "# >80 and <=90 => B\n",
    "# >=60 and <=80 => C\n",
    "# below 60 => D"
   ]
  },
  {
   "cell_type": "code",
   "execution_count": 7,
   "id": "fa067b11-71ba-4887-82de-b571fda7d494",
   "metadata": {},
   "outputs": [
    {
     "name": "stdin",
     "output_type": "stream",
     "text": [
      "Please Enter Any Percentage for which you wanna check the grade 80\n"
     ]
    },
    {
     "name": "stdout",
     "output_type": "stream",
     "text": [
      "Grade = C\n"
     ]
    }
   ],
   "source": [
    "percentage_input = int(input(\"Please Enter Any Percentage for which you wanna check the grade\"))\n",
    "\n",
    "if percentage_input > 90 and percentage_input <= 100:\n",
    "    print(\"Grade = A\")\n",
    "elif percentage_input > 80 and percentage_input <= 90:\n",
    "    print(\"Grade = B\")\n",
    "elif percentage_input >= 60 and percentage_input <= 80:\n",
    "    print(\"Grade = C\")\n",
    "elif percentage_input < 60:\n",
    "    print(\"Grade = D\")\n",
    "else:\n",
    "    print(\"given percentage is not valid. please Enter a valid percentage.\")"
   ]
  },
  {
   "cell_type": "markdown",
   "id": "56f906ff-0feb-4f35-9d2c-c21491ab3b84",
   "metadata": {},
   "source": [
    "# Q2 Write a program to accept the cost price of a bike and display the road tax to be paid according to the following criteria:\n",
    "# >100000 = 15%\n",
    "# >50000 and <=100000 = 10%\n",
    "# <= 50000 = 5%"
   ]
  },
  {
   "cell_type": "code",
   "execution_count": 14,
   "id": "ae68c7ef-7bfb-4664-9887-a56c23e511a3",
   "metadata": {},
   "outputs": [
    {
     "name": "stdin",
     "output_type": "stream",
     "text": [
      "Please Enter the cost price of bike 1\n"
     ]
    },
    {
     "name": "stdout",
     "output_type": "stream",
     "text": [
      "Your road tax is 0.05\n"
     ]
    }
   ],
   "source": [
    "cost_price = int(input(\"Please Enter the cost price of bike\"))\n",
    "\n",
    "if cost_price > 100000:\n",
    "    print(f\"Your road tax is {cost_price * 0.15}\")\n",
    "elif cost_price > 50000 and cost_price <= 100000:\n",
    "    print(f\"Your road tax is {cost_price * 0.1}\")\n",
    "elif cost_price > 0 and cost_price <=50000:\n",
    "    print(f\"Your road tax is {cost_price * 0.05}\")\n",
    "else:\n",
    "    print(\"given price is not justify the value, please enter the valid price\")"
   ]
  },
  {
   "cell_type": "markdown",
   "id": "1f81a914-73f6-4f2c-85ac-99933c7b092d",
   "metadata": {},
   "source": [
    "# Q3 Accept any city from the user and display monuments of that city:\n",
    "# Delhi => Red Fort\n",
    "# Agra => Taj Mahal\n",
    "# Jaipur => Jal Mahal"
   ]
  },
  {
   "cell_type": "code",
   "execution_count": 19,
   "id": "70113ada-4527-4c2b-98e4-59cdae954f5b",
   "metadata": {},
   "outputs": [
    {
     "name": "stdin",
     "output_type": "stream",
     "text": [
      "Please Enter the city from Delhi, Agra, Jaipur delhi\n"
     ]
    },
    {
     "name": "stdout",
     "output_type": "stream",
     "text": [
      "Red Fort is the monument of the Delhi\n"
     ]
    }
   ],
   "source": [
    "city = input(\"Please Enter the city from Delhi, Agra, Jaipur\")\n",
    "\n",
    "if city.lower() == 'delhi':\n",
    "    print(\"Red Fort is the monument of the Delhi\")\n",
    "elif city.lower() == 'agra':\n",
    "    print(\"Taj Mahal is the monument of the Agra\")\n",
    "elif city.lower() == 'jaipur':\n",
    "    print(\"Jal Mahal is the monument of the Jaipur\")\n",
    "else:\n",
    "    print(\"entered city doesn't belongs to the provided cities\")"
   ]
  },
  {
   "cell_type": "markdown",
   "id": "aacd38e9-19a0-40d7-98c5-ba7438b4b99d",
   "metadata": {},
   "source": [
    "# Q7/8 Reverse a while loop to display nmbers from 10 to 1"
   ]
  },
  {
   "cell_type": "code",
   "execution_count": 21,
   "id": "119927cf-7904-4cae-b9f9-2f58f61dd0e3",
   "metadata": {},
   "outputs": [
    {
     "name": "stdout",
     "output_type": "stream",
     "text": [
      "10 9 8 7 6 5 4 3 2 1 "
     ]
    }
   ],
   "source": [
    "num = 10\n",
    "while num >0:\n",
    "    print(num, end=\" \")\n",
    "    num -= 1"
   ]
  },
  {
   "cell_type": "markdown",
   "id": "0498dba5-7652-4ef4-9941-825bca62122c",
   "metadata": {},
   "source": [
    "# Q6 Print 3 different pattern using while loop "
   ]
  },
  {
   "cell_type": "code",
   "execution_count": 22,
   "id": "806a18b8-e7df-4542-9127-fc5e6477d068",
   "metadata": {},
   "outputs": [
    {
     "name": "stdin",
     "output_type": "stream",
     "text": [
      "Enter number of rows :  5\n"
     ]
    },
    {
     "name": "stdout",
     "output_type": "stream",
     "text": [
      "* \n",
      "* * \n",
      "* * * \n",
      "* * * * \n",
      "* * * * * \n"
     ]
    }
   ],
   "source": [
    "n = int(input('Enter number of rows : '))\n",
    " \n",
    "i = 1\n",
    "while i <= n :\n",
    "    j = 1\n",
    "    while j <= i:\n",
    "        print(\"*\", end = \" \")\n",
    "        j += 1\n",
    "    print()\n",
    "    i += 1"
   ]
  },
  {
   "cell_type": "code",
   "execution_count": 23,
   "id": "13b6cd97-e0ec-426a-b6ca-19e6b32bae8d",
   "metadata": {},
   "outputs": [
    {
     "name": "stdin",
     "output_type": "stream",
     "text": [
      "Enter number of rows :  5\n"
     ]
    },
    {
     "name": "stdout",
     "output_type": "stream",
     "text": [
      "* * * * * \n",
      "* * * * \n",
      "* * * \n",
      "* * \n",
      "* \n"
     ]
    }
   ],
   "source": [
    "n = int(input('Enter number of rows : '))\n",
    " \n",
    "i = 1\n",
    "while i <= n :\n",
    "    j = n\n",
    "    while j >= i:\n",
    "        print(\"*\", end = \" \")\n",
    "        j -= 1\n",
    "    print()\n",
    "    i += 1"
   ]
  },
  {
   "cell_type": "code",
   "execution_count": 26,
   "id": "76d79a3f-68fb-44b0-bd23-0204f3b94db8",
   "metadata": {},
   "outputs": [
    {
     "name": "stdin",
     "output_type": "stream",
     "text": [
      "Enter number of rows :  6\n"
     ]
    },
    {
     "name": "stdout",
     "output_type": "stream",
     "text": [
      "     * \n",
      "    * * \n",
      "   * * * \n",
      "  * * * * \n",
      " * * * * * \n",
      "* * * * * * \n"
     ]
    }
   ],
   "source": [
    "n = int(input('Enter number of rows : '))\n",
    "i = 1\n",
    "while i<=n:\n",
    "  print(\" \"*(n-i) + \"* \" * i)\n",
    "  i +=1 "
   ]
  },
  {
   "cell_type": "markdown",
   "id": "2128f9a9-a4b6-4a19-bd3b-64c3163aac40",
   "metadata": {},
   "source": [
    "# Q5 Why and When to use while loop in python "
   ]
  },
  {
   "cell_type": "markdown",
   "id": "fb43b4b0-84e7-4eda-95ec-521dd948a28d",
   "metadata": {},
   "source": [
    "## Python While Loop is used to execute a block of statements repeatedly until a given condition is satisfied. And when the condition becomes false, the line immediately after the loop in the program is executed.\n",
    "## While loop should be use when you don't know how long it will run (for example the bubble sort algorithm which loops as long as the values aren't sorted).\n",
    "## while loop is basically used to know how many iterations are required."
   ]
  },
  {
   "cell_type": "code",
   "execution_count": 31,
   "id": "8a25b4cb-437c-46e7-85dd-1a1a39958582",
   "metadata": {},
   "outputs": [
    {
     "name": "stdout",
     "output_type": "stream",
     "text": [
      "7 8 9 10 11 "
     ]
    }
   ],
   "source": [
    "z = 7\n",
    "while z < 12:\n",
    "    print(z, end=' ')\n",
    "    z += 1"
   ]
  },
  {
   "cell_type": "markdown",
   "id": "a22519f8-4cf1-4b24-ad5b-48efa4e5bf05",
   "metadata": {},
   "source": [
    "# Q4 - Check how many times a given number can be divided by 3 before it is less than or equal to 10"
   ]
  },
  {
   "cell_type": "code",
   "execution_count": 43,
   "id": "ca279920-896f-4060-8169-8a1cdae52809",
   "metadata": {},
   "outputs": [
    {
     "name": "stdin",
     "output_type": "stream",
     "text": [
      "Please enter a number =  999\n"
     ]
    },
    {
     "name": "stdout",
     "output_type": "stream",
     "text": [
      "5\n"
     ]
    }
   ],
   "source": [
    "num = int(input(\"Please enter a number = \"))\n",
    "count = 0\n",
    "\n",
    "while not num <= 10:\n",
    "    num = num / 3\n",
    "    count += 1\n",
    "    \n",
    "print(count)"
   ]
  }
 ],
 "metadata": {
  "kernelspec": {
   "display_name": "Python 3 (ipykernel)",
   "language": "python",
   "name": "python3"
  },
  "language_info": {
   "codemirror_mode": {
    "name": "ipython",
    "version": 3
   },
   "file_extension": ".py",
   "mimetype": "text/x-python",
   "name": "python",
   "nbconvert_exporter": "python",
   "pygments_lexer": "ipython3",
   "version": "3.10.8"
  }
 },
 "nbformat": 4,
 "nbformat_minor": 5
}
