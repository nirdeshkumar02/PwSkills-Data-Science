{
 "cells": [
  {
   "cell_type": "markdown",
   "id": "3cb4ab2b-5207-4c37-9f18-bf8d9a0ff769",
   "metadata": {},
   "source": [
    "# Q1 - Who Developed Python Programming Language?\n",
    "## Ans - Guido van Rossum in 1991"
   ]
  },
  {
   "cell_type": "markdown",
   "id": "5b935bb4-a049-4205-a9f0-25562fb32505",
   "metadata": {},
   "source": [
    "# Q2 - Which type Programming does python support ?\n",
    "## Ans - Python is a high level, general purpose language. It is dynamically typed and garbage collected language"
   ]
  },
  {
   "cell_type": "markdown",
   "id": "48ca2f00-77fb-477b-8d56-c978c7099789",
   "metadata": {},
   "source": [
    "# Q3 - Is Python case sensitive when dealing with identifiers?\n",
    "## Ans - Yes"
   ]
  },
  {
   "cell_type": "markdown",
   "id": "e4efc9f3-6245-4ed6-97e6-2a9ad31e9d91",
   "metadata": {},
   "source": [
    "# Q4 - What is the correct extension of the python file?\n",
    "## Ans - \n",
    "## *.py: This is normally the input source code that you've written.\n",
    "## *.pyc: This is the compiled bytecode. If you import a module, python will build a *.pyc file that contains the bytecode to make importing it again later easier (and faster)."
   ]
  },
  {
   "cell_type": "markdown",
   "id": "7cb5b84c-d617-44fd-9b60-fddac3a96fb8",
   "metadata": {},
   "source": [
    "# Q5 - Is Python code compiled or interpreted ?\n",
    "## Ans - Both it is compiled and interpreted as the python program is first compiled and then interpreted"
   ]
  },
  {
   "cell_type": "markdown",
   "id": "69f80ce1-b6e4-4154-95f8-26d1cc3884e9",
   "metadata": {},
   "source": [
    "# Q6 - Name a few blocks of code used to define in python language?\n",
    "## Ans - indentation, if-elif-else, while-else, for-else"
   ]
  },
  {
   "cell_type": "markdown",
   "id": "96e3c4e0-fbdb-4b3e-9019-a6857925b4c8",
   "metadata": {},
   "source": [
    "# Q7 - State a character used to give single-line comments in python?\n",
    "## Ans - '#'"
   ]
  },
  {
   "cell_type": "markdown",
   "id": "a156f0c9-e874-42fa-8060-bfb0b9f89d52",
   "metadata": {},
   "source": [
    "# Q8 - Mention functions which can help us to find the version of python that we are currently working on?\n",
    "## Ans - sys.version"
   ]
  },
  {
   "cell_type": "markdown",
   "id": "f4e7cd43-9dc9-4151-b6e5-8e90c96edf21",
   "metadata": {},
   "source": [
    "# Q9 - Python supports the creation of anonymous fnctions at runtime, using a construct called ?\n",
    "## Ans - Lambda Function"
   ]
  },
  {
   "cell_type": "markdown",
   "id": "711bc1af-53fb-4de5-b25a-7241d846a678",
   "metadata": {},
   "source": [
    "# Q10 - What does pip stand for python?\n",
    "## Ans - Python pip is the package manager for Python packages. We can use pip to install packages that do not come with Python."
   ]
  },
  {
   "cell_type": "markdown",
   "id": "358307cc-12c7-467a-9730-947a72944798",
   "metadata": {},
   "source": [
    "# Q11 - Mention a few built-in functions in python?\n",
    "## Ans - min(), max(), len(), print(), type(), slice(), split()"
   ]
  },
  {
   "cell_type": "markdown",
   "id": "5d2544d4-e756-4794-95fd-61f137fc5895",
   "metadata": {},
   "source": [
    "# Q12 - What is the maximum possible length of identifier in python?\n",
    "## Ans - 79 characters"
   ]
  },
  {
   "cell_type": "markdown",
   "id": "22778994-7dbd-449f-98d8-3f860db2d7e2",
   "metadata": {},
   "source": [
    "# Q13 - What are the benefits of using python?\n",
    "## Ans - \n",
    "## 1. easy to learn\n",
    "## 2. less code\n",
    "## 3. extensive library\n",
    "## 4. versatility - support for any kind of project whether, ML, Web Dev, AI"
   ]
  },
  {
   "cell_type": "markdown",
   "id": "4353e61d-f9ef-4c54-9b92-dbc5e6710b94",
   "metadata": {},
   "source": [
    "# Q14 - How is memory managed in python?\n",
    "## Ans - Memory allocation can be defined as allocating a block of space in the computer memory to a program. \n",
    "## In Python, memory allocation and deallocation method is automatic as we have garbage collector which takes care of the garbage.\n",
    "## Garbage Collection - Garbage collection is a process in which the interpreter frees up the memory when not in use to make it available for other objects."
   ]
  },
  {
   "cell_type": "markdown",
   "id": "74aa1aae-73fc-47ee-b56a-3071b34fd1f3",
   "metadata": {
    "tags": []
   },
   "source": [
    "# Q15 - How to install Python on windows and set path variables?\n",
    "## Ans -\n",
    "## Step 1 - Goto the Python Official site - https://www.python.org/downloads/\n",
    "## Step 2 - Download the python executable file and run this file with administrator. It will install the python in laptop\n",
    "## Step 3 - Copy the path where you have installed python files like C:/users/nksaini/python/bin\n",
    "## Step 4 - Search for System Environment Variable in the windows.\n",
    "## Step 5 - Add the copied path to the \"path\" under the user variable and system variable.\n",
    "## Step 6 - Restart your PC and Done.\n",
    "\n",
    "## You can check the installation by running \"python --version\" command in cmd terminal."
   ]
  },
  {
   "cell_type": "markdown",
   "id": "b3613cad-a02b-4eaf-b9fd-47385c2afd23",
   "metadata": {},
   "source": [
    "# Q16 - Is indentation required in python?\n",
    "## Ans - Yes"
   ]
  }
 ],
 "metadata": {
  "kernelspec": {
   "display_name": "Python 3 (ipykernel)",
   "language": "python",
   "name": "python3"
  },
  "language_info": {
   "codemirror_mode": {
    "name": "ipython",
    "version": 3
   },
   "file_extension": ".py",
   "mimetype": "text/x-python",
   "name": "python",
   "nbconvert_exporter": "python",
   "pygments_lexer": "ipython3",
   "version": "3.10.8"
  }
 },
 "nbformat": 4,
 "nbformat_minor": 5
}
